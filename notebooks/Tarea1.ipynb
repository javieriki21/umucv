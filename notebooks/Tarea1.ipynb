{
 "cells": [
  {
   "cell_type": "markdown",
   "id": "938ed931-c714-45aa-bc97-f3bdef858763",
   "metadata": {},
   "source": [
    "# Jesús Aragón García - Tarea 1\n",
    "\n",
    "En la clase de hoy, hemos aprendido y testeado distintas formas de realizar capturas de imagen, y su posterior tratamiento. Se ha probado tanto hacer una simple captura de imagen con la webcam de nuestros dispositivos (tanto portatiles como desde el teléfono móvil), y también se han realizado streamings de las capturas de imágenes tanto de forma local (con la dirección del localhost devuelta) como de otros dispositivos conectados en nuestra misma red (ej. Con la app RTSP Server para streaming desde el teléfono móvil)."
   ]
  },
  {
   "cell_type": "markdown",
   "id": "8b3bacf6-98de-4b14-af99-f1e90fe7dcdf",
   "metadata": {},
   "source": [
    "La parte más importante ha sido implementar un código python para capturar a parte de nuestra imagen, una parte determinada de ella. El trozo escogido de nuestra imagen ha sido señalada con un rectangulo rojo para saber cual es nuestra zona de interés, y posteriormente hemos tratado nuestro frame (un array de tipo numpy) para realizar un transformado a blanco y negro e invertir la imagen respecto al eje vertical. El código es el siguiente:"
   ]
  },
  {
   "cell_type": "code",
   "execution_count": 1,
   "id": "d8726fdf-8194-4984-8ccb-83918cf4a4e6",
   "metadata": {},
   "outputs": [
    {
     "name": "stdout",
     "output_type": "stream",
     "text": [
      "640x480 30.0fps\n"
     ]
    }
   ],
   "source": [
    "#!/usr/bin/env python\n",
    "\n",
    "# > ./stream.py\n",
    "# > ./stream.py --dev=help\n",
    "\n",
    "import cv2          as cv\n",
    "import numpy        as np\n",
    "from umucv.stream import autoStream\n",
    "\n",
    "showFrameZone = True\n",
    "\n",
    "for key,frame in autoStream():\n",
    "    if key == ord('x'):\n",
    "        showFrameZone = not showFrameZone\n",
    "\n",
    "    if not showFrameZone:\n",
    "        cv.imshow('Salida',frame)\n",
    "        continue\n",
    "\n",
    "    h,w = frame.shape[:2]\n",
    "    dh = h//4\n",
    "    dw = w//4\n",
    "\n",
    "    x1 = 2*dw\n",
    "    x2 = 3*dw\n",
    "    y1 = dh\n",
    "    y2 = 3*dh\n",
    "\n",
    "    cv.rectangle(frame, (x1,y1), (x2,y2), color=(0,0,255), thickness=2)\n",
    "\n",
    "    frameZone = frame[y1:y2,x1:x2]\n",
    "\n",
    "    gray = cv.cvtColor(frameZone, cv.COLOR_BGR2GRAY)\n",
    "    mirror = np.fliplr(gray)\n",
    "\n",
    "    # Otra forma\n",
    "    # gray = frameZone[:,:,1]\n",
    "    # mirror = gray[:, -1:0:-1]\n",
    "\n",
    "    # cv.imshow('ROI',mirror)\n",
    "\n",
    "    frame[y1:y2,x1:x2,:] = cv.cvtColor(mirror, cv.COLOR_GRAY2BGR)\n",
    "\n",
    "    cv.imshow('Salida',frame)"
   ]
  }
 ],
 "metadata": {
  "kernelspec": {
   "display_name": "Python 3 (ipykernel)",
   "language": "python",
   "name": "python3"
  },
  "language_info": {
   "codemirror_mode": {
    "name": "ipython",
    "version": 3
   },
   "file_extension": ".py",
   "mimetype": "text/x-python",
   "name": "python",
   "nbconvert_exporter": "python",
   "pygments_lexer": "ipython3",
   "version": "3.9.13"
  }
 },
 "nbformat": 4,
 "nbformat_minor": 5
}
